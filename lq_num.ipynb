{
 "cells": [
  {
   "cell_type": "code",
   "execution_count": 1,
   "metadata": {},
   "outputs": [
    {
     "name": "stdout",
     "output_type": "stream",
     "text": [
      "Wall time: 36.8 s\n"
     ]
    }
   ],
   "source": [
    "%%time\n",
    "import pandas as pd\n",
    "import numpy as np\n",
    "import warnings\n",
    "warnings.filterwarnings('ignore')\n",
    "import os\n",
    "os.chdir(r'E:/lq')\n",
    "tplq=pd.read_csv('查询EUTRAN同频邻区关系.csv',encoding='gbk')\n",
    "yplq=pd.read_csv('查询EUTRAN异频邻区关系.csv',encoding='gbk')"
   ]
  },
  {
   "cell_type": "code",
   "execution_count": 2,
   "metadata": {
    "scrolled": true
   },
   "outputs": [],
   "source": [
    "tplq['NAME_本地小区标识']=tplq['NAME']+\"_\"+tplq['本地小区标识'].map(str)\n",
    "tplq=tplq[[ 'NAME', '本地小区标识','NAME_本地小区标识']]\n",
    "tplq=pd.pivot_table(tplq,index=['NAME_本地小区标识'],aggfunc='count')\n",
    "tplq=tplq[['本地小区标识']]\n",
    "tplq.rename(columns={'本地小区标识':'邻区数'},inplace=True)"
   ]
  },
  {
   "cell_type": "code",
   "execution_count": null,
   "metadata": {},
   "outputs": [],
   "source": []
  },
  {
   "cell_type": "code",
   "execution_count": 3,
   "metadata": {
    "scrolled": true
   },
   "outputs": [],
   "source": [
    "yplq['NAME_本地小区标识']=yplq['NAME']+\"_\"+yplq['本地小区标识'].map(str)\n",
    "yplq=yplq[[ 'NAME', '本地小区标识','NAME_本地小区标识']]\n",
    "yplq=pd.pivot_table(yplq,index=['NAME_本地小区标识'],aggfunc='count')\n",
    "yplq=yplq[['本地小区标识']]\n",
    "yplq.rename(columns={'本地小区标识':'邻区数'},inplace=True)\n"
   ]
  },
  {
   "cell_type": "code",
   "execution_count": 4,
   "metadata": {},
   "outputs": [],
   "source": [
    "yplq.to_csv('yplq.csv',encoding='gbk')"
   ]
  },
  {
   "cell_type": "code",
   "execution_count": null,
   "metadata": {},
   "outputs": [],
   "source": []
  },
  {
   "cell_type": "code",
   "execution_count": 5,
   "metadata": {},
   "outputs": [],
   "source": [
    "tplq.to_csv('tplq.csv',encoding='gbk')"
   ]
  },
  {
   "cell_type": "code",
   "execution_count": null,
   "metadata": {},
   "outputs": [],
   "source": []
  },
  {
   "cell_type": "code",
   "execution_count": null,
   "metadata": {},
   "outputs": [],
   "source": []
  },
  {
   "cell_type": "code",
   "execution_count": null,
   "metadata": {},
   "outputs": [],
   "source": []
  }
 ],
 "metadata": {
  "kernelspec": {
   "display_name": "Python 3",
   "language": "python",
   "name": "python3"
  },
  "language_info": {
   "codemirror_mode": {
    "name": "ipython",
    "version": 3
   },
   "file_extension": ".py",
   "mimetype": "text/x-python",
   "name": "python",
   "nbconvert_exporter": "python",
   "pygments_lexer": "ipython3",
   "version": "3.8.5"
  }
 },
 "nbformat": 4,
 "nbformat_minor": 4
}
