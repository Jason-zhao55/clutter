{
 "cells": [
  {
   "cell_type": "code",
   "execution_count": 9,
   "metadata": {
    "scrolled": true
   },
   "outputs": [
    {
     "data": {
      "text/html": [
       "<div>\n",
       "<style scoped>\n",
       "    .dataframe tbody tr th:only-of-type {\n",
       "        vertical-align: middle;\n",
       "    }\n",
       "\n",
       "    .dataframe tbody tr th {\n",
       "        vertical-align: top;\n",
       "    }\n",
       "\n",
       "    .dataframe thead th {\n",
       "        text-align: right;\n",
       "    }\n",
       "</style>\n",
       "<table border=\"1\" class=\"dataframe\">\n",
       "  <thead>\n",
       "    <tr style=\"text-align: right;\">\n",
       "      <th></th>\n",
       "      <th>CellName</th>\n",
       "      <th>区域</th>\n",
       "      <th>邻区数</th>\n",
       "      <th>邻区数是否正常</th>\n",
       "    </tr>\n",
       "  </thead>\n",
       "  <tbody>\n",
       "    <tr>\n",
       "      <th>0</th>\n",
       "      <td>洛阳西工港乾大厦单-HLWS</td>\n",
       "      <td>城区</td>\n",
       "      <td>0</td>\n",
       "      <td>邻区数小于均值,建议进一步核查是否有必要增加邻区</td>\n",
       "    </tr>\n",
       "  </tbody>\n",
       "</table>\n",
       "</div>"
      ],
      "text/plain": [
       "         CellName  区域  邻区数                   邻区数是否正常\n",
       "0  洛阳西工港乾大厦单-HLWS  城区    0  邻区数小于均值,建议进一步核查是否有必要增加邻区"
      ]
     },
     "metadata": {},
     "output_type": "display_data"
    },
    {
     "name": "stdout",
     "output_type": "stream",
     "text": [
      "Wall time: 7.67 s\n"
     ]
    }
   ],
   "source": [
    "%%time\n",
    "# 1、修复仅存在同频邻区或异频邻区导致程序报错的问题\n",
    "# 2、修复不存在邻区时，无法显示的问题\n",
    "import pandas as pd\n",
    "import numpy as np\n",
    "import warnings\n",
    "warnings.filterwarnings('ignore')\n",
    "import glob\n",
    "New_Sites_Parameters=pd.read_excel(r'E:/New_Sites/Parameters.xlsx',sheet_name='New_Sites_Parameters')\n",
    "path =\"E:/New_Sites_Hc\"\n",
    "filenames = glob.glob(path + \"/*关系.csv\")\n",
    "dfs = []\n",
    "for filename in filenames:\n",
    "    dfs.append(pd.read_csv(filename,encoding=\"gbk\"))\n",
    "lq = pd.concat(dfs, ignore_index=True)\n",
    "lq=lq[['NAME','LOCALCELLID','本地小区名称']]\n",
    "lq=lq[~lq[\"本地小区名称\"].str.contains('本地小区')]\n",
    "grouped=lq.groupby(by=['本地小区名称'])\n",
    "lq=grouped.agg('count')\n",
    "\n",
    "lq=pd.merge(New_Sites_Parameters,lq,how='left',left_on='CellName',right_on='本地小区名称')\n",
    "lq.fillna(0,inplace=True)\n",
    "lq=lq[['CellName','区域','LOCALCELLID']]\n",
    "lq.rename(columns={'LOCALCELLID':'邻区数'},inplace=True)\n",
    "lq['邻区数']=lq['邻区数'].astype(int)\n",
    "lq=lq.sort_values(by=['邻区数'],ascending=True)\n",
    "def num(a,b):\n",
    "    if (a < 40) and (b=='农村'):\n",
    "        return '邻区数小于均值,建议进一步核查是否有必要增加邻区'\n",
    "    elif (a < 60) and (b=='城区'):\n",
    "        return '邻区数小于均值,建议进一步核查是否有必要增加邻区'\n",
    "    else:\n",
    "        return '邻区数正常'\n",
    "lq['邻区数是否正常']=lq.apply(lambda x : num(x['邻区数'],x['区域']),axis=1)\n",
    "lq.to_csv('lq.csv',encoding='gbk',index=False)\n",
    "lq.set_index(['CellName'])\n",
    "display(lq)\n",
    "\n"
   ]
  },
  {
   "cell_type": "code",
   "execution_count": null,
   "metadata": {},
   "outputs": [],
   "source": []
  },
  {
   "cell_type": "code",
   "execution_count": null,
   "metadata": {},
   "outputs": [],
   "source": []
  },
  {
   "cell_type": "code",
   "execution_count": null,
   "metadata": {},
   "outputs": [],
   "source": []
  }
 ],
 "metadata": {
  "kernelspec": {
   "display_name": "Python 3",
   "language": "python",
   "name": "python3"
  },
  "language_info": {
   "codemirror_mode": {
    "name": "ipython",
    "version": 3
   },
   "file_extension": ".py",
   "mimetype": "text/x-python",
   "name": "python",
   "nbconvert_exporter": "python",
   "pygments_lexer": "ipython3",
   "version": "3.8.5"
  }
 },
 "nbformat": 4,
 "nbformat_minor": 4
}
