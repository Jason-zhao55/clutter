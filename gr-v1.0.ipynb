{
 "cells": [
  {
   "cell_type": "code",
   "execution_count": 1,
   "metadata": {},
   "outputs": [],
   "source": [
    "import numpy as np\n",
    "import pandas as pd\n",
    "import os\n",
    "import glob"
   ]
  },
  {
   "cell_type": "code",
   "execution_count": 2,
   "metadata": {},
   "outputs": [],
   "source": [
    "os.chdir('E:\\gr')\n",
    "path =\"E:\\gr\"\n",
    "filenames = glob.glob(path + \"/*.csv\")\n",
    "dfs = []\n",
    "for filename in filenames:\n",
    "    dfs.append(pd.read_csv(filename,encoding=\"gbk\",skiprows=7))\n",
    "gr = pd.concat(dfs, ignore_index=True)"
   ]
  },
  {
   "cell_type": "code",
   "execution_count": 3,
   "metadata": {},
   "outputs": [],
   "source": [
    "gr=gr.dropna()"
   ]
  },
  {
   "cell_type": "code",
   "execution_count": 4,
   "metadata": {
    "scrolled": true
   },
   "outputs": [],
   "source": [
    "gr=gr[~gr['开始时间'].str.contains('开始时间')]"
   ]
  },
  {
   "cell_type": "code",
   "execution_count": 5,
   "metadata": {},
   "outputs": [],
   "source": [
    "a=gr['开始时间'][0][6:10]+\"_\"+gr['开始时间'][0][0:2]+\"_\"+gr['开始时间'][0][3:5]"
   ]
  },
  {
   "cell_type": "code",
   "execution_count": 6,
   "metadata": {
    "scrolled": false
   },
   "outputs": [],
   "source": [
    "gr.to_excel(f'{a}_干扰明细.xlsx',index=False)"
   ]
  },
  {
   "cell_type": "code",
   "execution_count": 7,
   "metadata": {
    "scrolled": true
   },
   "outputs": [],
   "source": [
    "gr['系统上行每个PRB上检测到的干扰噪声的平均值 (毫瓦分贝)']=gr['系统上行每个PRB上检测到的干扰噪声的平均值 (毫瓦分贝)'].replace('NIL',-120)\n",
    "gr['100个PRB干扰的平均值 (毫瓦分贝)']=gr['100个PRB干扰的平均值 (毫瓦分贝)'].replace('NIL',-120)"
   ]
  },
  {
   "cell_type": "code",
   "execution_count": 8,
   "metadata": {
    "scrolled": true
   },
   "outputs": [],
   "source": [
    "gr[['系统上行每个PRB上检测到的干扰噪声的平均值 (毫瓦分贝)','100个PRB干扰的平均值 (毫瓦分贝)']]=gr[['系统上行每个PRB上检测到的干扰噪声的平均值 (毫瓦分贝)','100个PRB干扰的平均值 (毫瓦分贝)']].astype(float)"
   ]
  },
  {
   "cell_type": "code",
   "execution_count": 9,
   "metadata": {},
   "outputs": [],
   "source": [
    "gr['小区']=gr['小区'].astype(str)"
   ]
  },
  {
   "cell_type": "code",
   "execution_count": 10,
   "metadata": {
    "scrolled": false
   },
   "outputs": [],
   "source": [
    "def names(a1):\n",
    "     return(a1.split('小区名称=')[1].split(',')[0])"
   ]
  },
  {
   "cell_type": "code",
   "execution_count": 11,
   "metadata": {
    "scrolled": true
   },
   "outputs": [],
   "source": [
    "gr['小区']=gr['小区'].map(names)"
   ]
  },
  {
   "cell_type": "code",
   "execution_count": 12,
   "metadata": {},
   "outputs": [],
   "source": [
    "gr['区县']=gr['网元名称'].str[2:4]"
   ]
  },
  {
   "cell_type": "code",
   "execution_count": 13,
   "metadata": {},
   "outputs": [],
   "source": [
    "def gr1(a):\n",
    "    if a>float(-100):\n",
    "        return 1\n",
    "    else:\n",
    "        return 0\n",
    "def gr2(b):\n",
    "    if b>float(-105):\n",
    "        return 1\n",
    "    else:\n",
    "        return 0\n",
    "def gr3(c):\n",
    "    if c>float(-110):\n",
    "        return 1\n",
    "    else:\n",
    "        return 0"
   ]
  },
  {
   "cell_type": "code",
   "execution_count": 14,
   "metadata": {},
   "outputs": [],
   "source": [
    "gr['系统上行每个PRB上干扰噪声的平均值 (毫瓦分贝)是否大于-100']=gr.apply(lambda x: gr1(x['系统上行每个PRB上检测到的干扰噪声的平均值 (毫瓦分贝)']),axis=1)\n",
    "gr['系统上行每个PRB上干扰噪声的平均值 (毫瓦分贝)是否大于-105']=gr.apply(lambda y: gr2(y['系统上行每个PRB上检测到的干扰噪声的平均值 (毫瓦分贝)']),axis=1)\n",
    "gr['系统上行每个PRB上干扰噪声的平均值 (毫瓦分贝)是否大于-110']=gr.apply(lambda z: gr3(z['系统上行每个PRB上检测到的干扰噪声的平均值 (毫瓦分贝)']),axis=1)"
   ]
  },
  {
   "cell_type": "code",
   "execution_count": 15,
   "metadata": {
    "scrolled": true
   },
   "outputs": [],
   "source": [
    "gr=pd.pivot_table(gr,values=['系统上行每个PRB上干扰噪声的平均值 (毫瓦分贝)是否大于-100','系统上行每个PRB上干扰噪声的平均值 (毫瓦分贝)是否大于-105','系统上行每个PRB上干扰噪声的平均值 (毫瓦分贝)是否大于-110'],index=['区县','开始时间'],aggfunc={'系统上行每个PRB上干扰噪声的平均值 (毫瓦分贝)是否大于-100':np.sum,'系统上行每个PRB上干扰噪声的平均值 (毫瓦分贝)是否大于-105':np.sum,'系统上行每个PRB上干扰噪声的平均值 (毫瓦分贝)是否大于-110':np.sum},margins=True,margins_name='总计')"
   ]
  },
  {
   "cell_type": "code",
   "execution_count": 16,
   "metadata": {
    "scrolled": true
   },
   "outputs": [],
   "source": [
    "gr=gr.reset_index('开始时间')"
   ]
  },
  {
   "cell_type": "code",
   "execution_count": 17,
   "metadata": {
    "scrolled": true
   },
   "outputs": [],
   "source": [
    "gr=gr.loc[[ '伊川', '偃师',  '孟津', '宜阳', '嵩县',  '新区','吉利' ,'新安',\n",
    "       '栾川',  '汝阳','洛宁',  '涧西',  '西工','总计']]"
   ]
  },
  {
   "cell_type": "code",
   "execution_count": 18,
   "metadata": {},
   "outputs": [],
   "source": [
    "gr=gr.reset_index()"
   ]
  },
  {
   "cell_type": "code",
   "execution_count": 19,
   "metadata": {},
   "outputs": [],
   "source": [
    "gr.rename(columns={'系统上行每个PRB上干扰噪声的平均值 (毫瓦分贝)是否大于-100':'大于-100干扰小区数','系统上行每个PRB上干扰噪声的平均值 (毫瓦分贝)是否大于-105':'大于-105干扰小区数','系统上行每个PRB上干扰噪声的平均值 (毫瓦分贝)是否大于-110':'大于-110干扰小区数'},inplace=True)"
   ]
  },
  {
   "cell_type": "code",
   "execution_count": 20,
   "metadata": {
    "scrolled": true
   },
   "outputs": [],
   "source": [
    "gr=gr[['开始时间','区县', '大于-100干扰小区数', '大于-105干扰小区数', '大于-110干扰小区数']]"
   ]
  },
  {
   "cell_type": "code",
   "execution_count": 21,
   "metadata": {},
   "outputs": [],
   "source": [
    "a=gr['开始时间'][0][6:10]+\"_\"+gr['开始时间'][0][0:2]+\"_\"+gr['开始时间'][0][3:5]"
   ]
  },
  {
   "cell_type": "code",
   "execution_count": 22,
   "metadata": {
    "scrolled": true
   },
   "outputs": [],
   "source": [
    "gr.to_excel(f'{a}_干扰统计.xlsx',index=False)"
   ]
  },
  {
   "cell_type": "code",
   "execution_count": 23,
   "metadata": {},
   "outputs": [
    {
     "data": {
      "text/html": [
       "<div>\n",
       "<style scoped>\n",
       "    .dataframe tbody tr th:only-of-type {\n",
       "        vertical-align: middle;\n",
       "    }\n",
       "\n",
       "    .dataframe tbody tr th {\n",
       "        vertical-align: top;\n",
       "    }\n",
       "\n",
       "    .dataframe thead th {\n",
       "        text-align: right;\n",
       "    }\n",
       "</style>\n",
       "<table border=\"1\" class=\"dataframe\">\n",
       "  <thead>\n",
       "    <tr style=\"text-align: right;\">\n",
       "      <th></th>\n",
       "      <th>开始时间</th>\n",
       "      <th>区县</th>\n",
       "      <th>大于-100干扰小区数</th>\n",
       "      <th>大于-105干扰小区数</th>\n",
       "      <th>大于-110干扰小区数</th>\n",
       "    </tr>\n",
       "  </thead>\n",
       "  <tbody>\n",
       "    <tr>\n",
       "      <th>0</th>\n",
       "      <td>11/08/2020 09:00:00</td>\n",
       "      <td>伊川</td>\n",
       "      <td>8</td>\n",
       "      <td>20</td>\n",
       "      <td>143</td>\n",
       "    </tr>\n",
       "    <tr>\n",
       "      <th>1</th>\n",
       "      <td>11/08/2020 09:00:00</td>\n",
       "      <td>偃师</td>\n",
       "      <td>0</td>\n",
       "      <td>10</td>\n",
       "      <td>156</td>\n",
       "    </tr>\n",
       "    <tr>\n",
       "      <th>2</th>\n",
       "      <td>11/08/2020 09:00:00</td>\n",
       "      <td>孟津</td>\n",
       "      <td>0</td>\n",
       "      <td>7</td>\n",
       "      <td>53</td>\n",
       "    </tr>\n",
       "    <tr>\n",
       "      <th>3</th>\n",
       "      <td>11/08/2020 09:00:00</td>\n",
       "      <td>宜阳</td>\n",
       "      <td>5</td>\n",
       "      <td>12</td>\n",
       "      <td>87</td>\n",
       "    </tr>\n",
       "    <tr>\n",
       "      <th>4</th>\n",
       "      <td>11/08/2020 09:00:00</td>\n",
       "      <td>嵩县</td>\n",
       "      <td>0</td>\n",
       "      <td>4</td>\n",
       "      <td>41</td>\n",
       "    </tr>\n",
       "    <tr>\n",
       "      <th>5</th>\n",
       "      <td>11/08/2020 09:00:00</td>\n",
       "      <td>新区</td>\n",
       "      <td>0</td>\n",
       "      <td>0</td>\n",
       "      <td>0</td>\n",
       "    </tr>\n",
       "    <tr>\n",
       "      <th>6</th>\n",
       "      <td>11/08/2020 09:00:00</td>\n",
       "      <td>吉利</td>\n",
       "      <td>1</td>\n",
       "      <td>3</td>\n",
       "      <td>11</td>\n",
       "    </tr>\n",
       "    <tr>\n",
       "      <th>7</th>\n",
       "      <td>11/08/2020 09:00:00</td>\n",
       "      <td>新安</td>\n",
       "      <td>1</td>\n",
       "      <td>3</td>\n",
       "      <td>59</td>\n",
       "    </tr>\n",
       "    <tr>\n",
       "      <th>8</th>\n",
       "      <td>11/08/2020 09:00:00</td>\n",
       "      <td>栾川</td>\n",
       "      <td>8</td>\n",
       "      <td>10</td>\n",
       "      <td>41</td>\n",
       "    </tr>\n",
       "    <tr>\n",
       "      <th>9</th>\n",
       "      <td>11/08/2020 09:00:00</td>\n",
       "      <td>汝阳</td>\n",
       "      <td>0</td>\n",
       "      <td>1</td>\n",
       "      <td>32</td>\n",
       "    </tr>\n",
       "    <tr>\n",
       "      <th>10</th>\n",
       "      <td>11/08/2020 09:00:00</td>\n",
       "      <td>洛宁</td>\n",
       "      <td>1</td>\n",
       "      <td>7</td>\n",
       "      <td>32</td>\n",
       "    </tr>\n",
       "    <tr>\n",
       "      <th>11</th>\n",
       "      <td>11/08/2020 09:00:00</td>\n",
       "      <td>涧西</td>\n",
       "      <td>28</td>\n",
       "      <td>63</td>\n",
       "      <td>275</td>\n",
       "    </tr>\n",
       "    <tr>\n",
       "      <th>12</th>\n",
       "      <td>11/08/2020 09:00:00</td>\n",
       "      <td>西工</td>\n",
       "      <td>18</td>\n",
       "      <td>48</td>\n",
       "      <td>334</td>\n",
       "    </tr>\n",
       "    <tr>\n",
       "      <th>13</th>\n",
       "      <td></td>\n",
       "      <td>总计</td>\n",
       "      <td>70</td>\n",
       "      <td>188</td>\n",
       "      <td>1264</td>\n",
       "    </tr>\n",
       "  </tbody>\n",
       "</table>\n",
       "</div>"
      ],
      "text/plain": [
       "                   开始时间  区县  大于-100干扰小区数  大于-105干扰小区数  大于-110干扰小区数\n",
       "0   11/08/2020 09:00:00  伊川            8           20          143\n",
       "1   11/08/2020 09:00:00  偃师            0           10          156\n",
       "2   11/08/2020 09:00:00  孟津            0            7           53\n",
       "3   11/08/2020 09:00:00  宜阳            5           12           87\n",
       "4   11/08/2020 09:00:00  嵩县            0            4           41\n",
       "5   11/08/2020 09:00:00  新区            0            0            0\n",
       "6   11/08/2020 09:00:00  吉利            1            3           11\n",
       "7   11/08/2020 09:00:00  新安            1            3           59\n",
       "8   11/08/2020 09:00:00  栾川            8           10           41\n",
       "9   11/08/2020 09:00:00  汝阳            0            1           32\n",
       "10  11/08/2020 09:00:00  洛宁            1            7           32\n",
       "11  11/08/2020 09:00:00  涧西           28           63          275\n",
       "12  11/08/2020 09:00:00  西工           18           48          334\n",
       "13                       总计           70          188         1264"
      ]
     },
     "execution_count": 23,
     "metadata": {},
     "output_type": "execute_result"
    }
   ],
   "source": [
    "gr"
   ]
  },
  {
   "cell_type": "code",
   "execution_count": null,
   "metadata": {},
   "outputs": [],
   "source": []
  }
 ],
 "metadata": {
  "kernelspec": {
   "display_name": "Python 3",
   "language": "python",
   "name": "python3"
  },
  "language_info": {
   "codemirror_mode": {
    "name": "ipython",
    "version": 3
   },
   "file_extension": ".py",
   "mimetype": "text/x-python",
   "name": "python",
   "nbconvert_exporter": "python",
   "pygments_lexer": "ipython3",
   "version": "3.8.5"
  }
 },
 "nbformat": 4,
 "nbformat_minor": 4
}
