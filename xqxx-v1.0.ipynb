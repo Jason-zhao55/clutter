{
 "cells": [
  {
   "cell_type": "code",
   "execution_count": 1,
   "metadata": {},
   "outputs": [
    {
     "name": "stdout",
     "output_type": "stream",
     "text": [
      "Wall time: 825 ms\n"
     ]
    }
   ],
   "source": [
    "%%time\n",
    "import numpy as np\n",
    "import pandas as pd"
   ]
  },
  {
   "cell_type": "code",
   "execution_count": 2,
   "metadata": {
    "scrolled": true
   },
   "outputs": [],
   "source": [
    "cellinfo_jt=pd.read_csv(\"E:/xqxx/查询小区静态参数.csv\",encoding='gbk',engine='python',usecols=['NAME','本地小区标识','小区名称','NB-IoT小区指示','频带','下行频点','上行带宽','下行带宽','小区标识','物理小区标识','小区激活状态','小区双工模式','上下行子帧配比','特殊子帧配比','根序列索引','UE最大允许发射功率(毫瓦分贝)','多RRU共小区指示','小区级参考信号端口数','小区发送和接收模式'])"
   ]
  },
  {
   "cell_type": "code",
   "execution_count": 3,
   "metadata": {},
   "outputs": [],
   "source": [
    "cellinfo_tac=pd.read_csv(\"E:/xqxx/查看跟踪区域配置信息.csv\",encoding='gbk',engine='python',usecols=['NAME','本地跟踪区域标识','运营商索引值','跟踪区域码','NB-IoT TA标识'])"
   ]
  },
  {
   "cell_type": "code",
   "execution_count": 4,
   "metadata": {},
   "outputs": [],
   "source": [
    "cellinfo_pdsch=pd.read_csv(\"E:/xqxx/查询PDSCH配置信息.csv\",encoding='gbk',engine='python',usecols=['NAME','本地小区标识','参考信号功率(0.1毫瓦分贝)'])"
   ]
  },
  {
   "cell_type": "code",
   "execution_count": 5,
   "metadata": {},
   "outputs": [],
   "source": [
    "cellinfo_eNodeB_fun=pd.read_csv(\"E:/xqxx/查询eNodeB功能配置.csv\",encoding='gbk',engine='python',usecols=['NAME','eNodeB标识'],dtype='str')"
   ]
  },
  {
   "cell_type": "code",
   "execution_count": 6,
   "metadata": {},
   "outputs": [],
   "source": [
    "values={'NB-IoT小区指示':'否'}"
   ]
  },
  {
   "cell_type": "code",
   "execution_count": 7,
   "metadata": {},
   "outputs": [],
   "source": [
    "cellinfo_jt.fillna(value=values,inplace=True)"
   ]
  },
  {
   "cell_type": "code",
   "execution_count": 8,
   "metadata": {
    "scrolled": true
   },
   "outputs": [],
   "source": [
    "cellinfo_jt=cellinfo_jt[cellinfo_jt['NB-IoT小区指示']=='否']"
   ]
  },
  {
   "cell_type": "code",
   "execution_count": 9,
   "metadata": {
    "scrolled": true
   },
   "outputs": [],
   "source": [
    "cellinfo_jt['NAME_本地小区标识']=cellinfo_jt['NAME'].map(str)+\"_\"+cellinfo_jt['本地小区标识'].map(str)"
   ]
  },
  {
   "cell_type": "code",
   "execution_count": 10,
   "metadata": {},
   "outputs": [],
   "source": [
    "values1={'NB-IoT TA标识':'否'}"
   ]
  },
  {
   "cell_type": "code",
   "execution_count": 11,
   "metadata": {},
   "outputs": [],
   "source": [
    "cellinfo_tac.fillna(value=values1,inplace=True)"
   ]
  },
  {
   "cell_type": "code",
   "execution_count": 12,
   "metadata": {},
   "outputs": [],
   "source": [
    "cellinfo_tac=cellinfo_tac[cellinfo_tac['NB-IoT TA标识']=='否']"
   ]
  },
  {
   "cell_type": "code",
   "execution_count": 13,
   "metadata": {},
   "outputs": [],
   "source": [
    "cellinfo_tac=cellinfo_tac[cellinfo_tac['运营商索引值']==0]"
   ]
  },
  {
   "cell_type": "code",
   "execution_count": 14,
   "metadata": {},
   "outputs": [],
   "source": [
    "cellinfo_pdsch['NAME_本地小区标识']=cellinfo_pdsch['NAME'].map(str)+\"_\"+cellinfo_pdsch['本地小区标识'].map(str)"
   ]
  },
  {
   "cell_type": "code",
   "execution_count": 15,
   "metadata": {
    "scrolled": true
   },
   "outputs": [],
   "source": [
    "df0=pd.merge(cellinfo_jt,cellinfo_tac,how='left',left_on='NAME',right_on='NAME')"
   ]
  },
  {
   "cell_type": "code",
   "execution_count": 16,
   "metadata": {},
   "outputs": [],
   "source": [
    "df1=pd.merge(df0,cellinfo_pdsch,how='left',left_on='NAME_本地小区标识',right_on='NAME_本地小区标识')"
   ]
  },
  {
   "cell_type": "code",
   "execution_count": 17,
   "metadata": {},
   "outputs": [],
   "source": [
    "df2=pd.merge(df1,cellinfo_eNodeB_fun,how='left',left_on='NAME_x',right_on='NAME')"
   ]
  },
  {
   "cell_type": "code",
   "execution_count": 18,
   "metadata": {},
   "outputs": [],
   "source": [
    "#删除不存在eNodeB标识的小区\n",
    "df2.dropna(subset=['eNodeB标识'],inplace=True)"
   ]
  },
  {
   "cell_type": "code",
   "execution_count": 19,
   "metadata": {
    "scrolled": true
   },
   "outputs": [],
   "source": [
    "# 生成'eNodeB标识_小区标识'\n",
    "df2['eNodeB标识_小区标识']=df2['eNodeB标识'].map(str)+\"_\"+df2['小区标识'].map(str)"
   ]
  },
  {
   "cell_type": "code",
   "execution_count": 20,
   "metadata": {},
   "outputs": [],
   "source": [
    "# 将eNodeB标识转化为数值类型\n",
    "df2['eNodeB标识'] = pd.to_numeric(df2['eNodeB标识'],errors='coerce')"
   ]
  },
  {
   "cell_type": "code",
   "execution_count": 21,
   "metadata": {
    "scrolled": true
   },
   "outputs": [],
   "source": [
    "df2['ECI']=df2['eNodeB标识'].map(int)*256+df2['小区标识']"
   ]
  },
  {
   "cell_type": "code",
   "execution_count": 22,
   "metadata": {},
   "outputs": [],
   "source": [
    "df=df2[['eNodeB标识_小区标识','NAME_本地小区标识','小区名称','小区激活状态','本地小区标识_x','频带','下行频点','小区标识', '物理小区标识', '上下行子帧配比', '特殊子帧配比', '本地跟踪区域标识','跟踪区域码','NAME_x','eNodeB标识', 'UE最大允许发射功率(毫瓦分贝)', '参考信号功率(0.1毫瓦分贝)', '根序列索引','ECI', '小区级参考信号端口数', '小区发送和接收模式',\n",
    "       '下行带宽', '小区双工模式' ,'多RRU共小区指示' ]]"
   ]
  },
  {
   "cell_type": "code",
   "execution_count": 23,
   "metadata": {
    "scrolled": true
   },
   "outputs": [],
   "source": [
    "df=df.rename(columns={'本地小区标识_x':'本地小区标识','NAME_x':'NAME'})"
   ]
  },
  {
   "cell_type": "code",
   "execution_count": 24,
   "metadata": {},
   "outputs": [],
   "source": [
    "cellinfo_yc=pd.read_csv(\"E:/xqxx/异常数据.csv\",encoding='gbk',engine='python',usecols=['NAME','MML命令','执行结果'])\n"
   ]
  },
  {
   "cell_type": "code",
   "execution_count": 25,
   "metadata": {},
   "outputs": [],
   "source": [
    "cellinfo_yc=cellinfo_yc[cellinfo_yc['MML命令']=='命令-----LST CELL:;']"
   ]
  },
  {
   "cell_type": "code",
   "execution_count": 26,
   "metadata": {},
   "outputs": [],
   "source": [
    "cellinfo_sq=pd.read_csv(\"E:/xqxx/查询小区扇区设备.csv\",encoding='gbk',engine='python',usecols=['NAME','本地小区标识','扇区设备编号'])"
   ]
  },
  {
   "cell_type": "code",
   "execution_count": 27,
   "metadata": {},
   "outputs": [],
   "source": [
    "cellinfo_sq['NAME_本地小区标识']=cellinfo_sq['NAME'].map(str)+\"_\"+cellinfo_sq['本地小区标识'].map(str)"
   ]
  },
  {
   "cell_type": "code",
   "execution_count": 28,
   "metadata": {
    "scrolled": true
   },
   "outputs": [],
   "source": [
    "cellinfo_sq=pd.merge(cellinfo_sq,df,how='left',on='NAME_本地小区标识')\n",
    "cellinfo_sq=cellinfo_sq[['NAME_x','本地小区标识_x','NAME_本地小区标识','小区名称','扇区设备编号']]\n",
    "cellinfo_sq.rename(columns={'NAME_x':'NAME','本地小区标识_x':'本地小区标识'},inplace=True)"
   ]
  },
  {
   "cell_type": "code",
   "execution_count": 29,
   "metadata": {},
   "outputs": [],
   "source": [
    "cellinfo_no=pd.read_csv(\"E:/xqxx/没有查到相应的结果.csv\",encoding='gbk',engine='python',usecols=['NAME','MML命令','备注'])"
   ]
  },
  {
   "cell_type": "code",
   "execution_count": 30,
   "metadata": {
    "scrolled": true
   },
   "outputs": [],
   "source": [
    "cellinfo_no=cellinfo_no[cellinfo_no['MML命令']=='LST CELL:']"
   ]
  },
  {
   "cell_type": "code",
   "execution_count": 31,
   "metadata": {
    "scrolled": true
   },
   "outputs": [],
   "source": [
    "cellinfo_no=pd.merge(cellinfo_no,cellinfo_eNodeB_fun,how='left',left_on='NAME',right_on='NAME')"
   ]
  },
  {
   "cell_type": "code",
   "execution_count": 33,
   "metadata": {
    "scrolled": true
   },
   "outputs": [],
   "source": [
    "cellinfo_no=cellinfo_no[['eNodeB标识','NAME','MML命令','备注']]"
   ]
  },
  {
   "cell_type": "code",
   "execution_count": 34,
   "metadata": {},
   "outputs": [],
   "source": [
    "cellinfo_no['eNodeB标识'] = pd.to_numeric(cellinfo_no['eNodeB标识'],errors='coerce')"
   ]
  },
  {
   "cell_type": "code",
   "execution_count": 36,
   "metadata": {
    "scrolled": true
   },
   "outputs": [
    {
     "name": "stdout",
     "output_type": "stream",
     "text": [
      "小区信息.xlsx 已导出成功\n",
      "Wall time: 1min 18s\n"
     ]
    }
   ],
   "source": [
    "%%time\n",
    "writer = pd.ExcelWriter(\"E:/xqxx/小区信息.xlsx\")\n",
    "# 设置不导出索引和将不同的Dateframe 写入多个sheet中\n",
    "df.to_excel(writer,'小区基础信息',index=None)\n",
    "cellinfo_yc.to_excel(writer,'断站信息',index=None)\n",
    "cellinfo_sq.to_excel(writer,'扇区设备编号信息',index=None)\n",
    "cellinfo_no.to_excel(writer,'站点下无小区',index=None)\n",
    "writer.save()\n",
    "print(\"小区信息.xlsx 已导出成功\")"
   ]
  },
  {
   "cell_type": "code",
   "execution_count": null,
   "metadata": {},
   "outputs": [],
   "source": []
  },
  {
   "cell_type": "code",
   "execution_count": null,
   "metadata": {},
   "outputs": [],
   "source": []
  }
 ],
 "metadata": {
  "kernelspec": {
   "display_name": "Python 3",
   "language": "python",
   "name": "python3"
  },
  "language_info": {
   "codemirror_mode": {
    "name": "ipython",
    "version": 3
   },
   "file_extension": ".py",
   "mimetype": "text/x-python",
   "name": "python",
   "nbconvert_exporter": "python",
   "pygments_lexer": "ipython3",
   "version": "3.8.5"
  }
 },
 "nbformat": 4,
 "nbformat_minor": 2
}
