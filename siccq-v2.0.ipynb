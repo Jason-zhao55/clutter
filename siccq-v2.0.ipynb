{
 "cells": [
  {
   "cell_type": "code",
   "execution_count": 82,
   "metadata": {
    "scrolled": true
   },
   "outputs": [
    {
     "name": "stderr",
     "output_type": "stream",
     "text": [
      "<decorator-gen-55>:2: DtypeWarning: Columns (0,4,5,6,7,12,13,14,15,16,17,18,19,20,21,22,23,24,25,26,27,28,29,30,31,32,33,34,35,36,37,38,39,40,41,42,43,44,45,46,47,48,49,50,51,52,53,54,55,56,57,58,59,60,61,62,63,64,65,66,67,68,69,70,71,72,73) have mixed types.Specify dtype option on import or set low_memory=False.\n",
      "<decorator-gen-55>:2: DtypeWarning: Columns (1,4,5,6,7,8,9,10,11,12,13,14,15) have mixed types.Specify dtype option on import or set low_memory=False.\n",
      "<decorator-gen-55>:2: DtypeWarning: Columns (1,4,5,6) have mixed types.Specify dtype option on import or set low_memory=False.\n"
     ]
    },
    {
     "name": "stdout",
     "output_type": "stream",
     "text": [
      "Wall time: 44.8 s\n"
     ]
    }
   ],
   "source": [
    "%%time\n",
    "import numpy as np\n",
    "import pandas as pd\n",
    "\n",
    "cellinfo=pd.read_excel(\"E:/sjzc/siccq/小区信息.xlsx\")\n",
    "cell_mr=pd.read_csv(\"E:/sjzc/siccq/mr.csv\")\n",
    "cell_mr=cell_mr[~cell_mr['地市'].str.contains('地市')]\n",
    "cell_rl=pd.read_csv(\"E:/sjzc/siccq/rl.csv\",encoding=\"gbk\")\n",
    "cell_cdfg=pd.read_csv(\"E:/sjzc/siccq/cdfg.csv\",encoding=\"gbk\")\n",
    "cell_ta=pd.read_csv('E:/sjzc/siccq/ta.csv',encoding='gbk',skiprows=7)\n",
    "cell_sl=pd.read_csv('E:/sjzc/siccq/sl.csv',encoding='gbk',skiprows=7)"
   ]
  },
  {
   "cell_type": "code",
   "execution_count": 83,
   "metadata": {
    "scrolled": false
   },
   "outputs": [],
   "source": [
    "cell_sl.dropna(subset=['周期（分钟）'],inplace=True)\n",
    "\n",
    "cell_sl=cell_sl[~cell_sl['开始时间'].str.contains('开始')]"
   ]
  },
  {
   "cell_type": "code",
   "execution_count": 84,
   "metadata": {},
   "outputs": [],
   "source": [
    "def func_fg_eNodeB_Id(line1):\n",
    "    return(line1.split(\"eNodeB标识=\")[1].split(',')[0])\n",
    "def func_fg_id(line):\n",
    "    return(line.split('小区标识=')[-1])\n",
    "cell_sl['eNodeB_Id']=cell_sl['小区'].map(func_fg_eNodeB_Id)\n",
    "cell_sl['Id']=cell_sl['小区'].map(func_fg_id)\n",
    "cell_sl['eNodeB_Id'] = pd.to_numeric(cell_sl['eNodeB_Id'],errors='coerce')\n",
    "cell_sl['Id'] = pd.to_numeric(cell_sl['Id'],errors='coerce')"
   ]
  },
  {
   "cell_type": "code",
   "execution_count": 85,
   "metadata": {},
   "outputs": [],
   "source": [
    "cell_sl['ECI']=cell_sl['eNodeB_Id'].map(lambda x : x*256)+cell_sl['Id']"
   ]
  },
  {
   "cell_type": "code",
   "execution_count": 86,
   "metadata": {},
   "outputs": [],
   "source": [
    "cell_sl['小区PDCP层所发送的下行数据的总吞吐量 (比特)']=pd.to_numeric(cell_sl['小区PDCP层所发送的下行数据的总吞吐量 (比特)'],errors='coerce')\n",
    "cell_sl['使缓存为空的最后一个TTI所传的下行PDCP吞吐量 (比特)']=pd.to_numeric(cell_sl['使缓存为空的最后一个TTI所传的下行PDCP吞吐量 (比特)'],errors='coerce')\n",
    "cell_sl['扣除使下行缓存为空的最后一个TTI之后的数传时长 (毫秒)']=pd.to_numeric(cell_sl['扣除使下行缓存为空的最后一个TTI之后的数传时长 (毫秒)'],errors='coerce')\n"
   ]
  },
  {
   "cell_type": "code",
   "execution_count": 87,
   "metadata": {
    "scrolled": true
   },
   "outputs": [],
   "source": [
    "cell_sl=pd.pivot_table(cell_sl,values=['小区PDCP层所发送的下行数据的总吞吐量 (比特)','使缓存为空的最后一个TTI所传的下行PDCP吞吐量 (比特)','扣除使下行缓存为空的最后一个TTI之后的数传时长 (毫秒)'],index='ECI',aggfunc='sum')"
   ]
  },
  {
   "cell_type": "code",
   "execution_count": 88,
   "metadata": {
    "scrolled": true
   },
   "outputs": [],
   "source": [
    "cell_sl['感知速率Mbps']=(cell_sl['小区PDCP层所发送的下行数据的总吞吐量 (比特)']-cell_sl['使缓存为空的最后一个TTI所传的下行PDCP吞吐量 (比特)'])/cell_sl['扣除使下行缓存为空的最后一个TTI之后的数传时长 (毫秒)']/1000"
   ]
  },
  {
   "cell_type": "code",
   "execution_count": 89,
   "metadata": {},
   "outputs": [],
   "source": [
    "cell_ta.dropna(subset=['周期（分钟）'],inplace=True)\n",
    "cell_ta_str=cell_ta.astype(str)\n",
    "cell_ta=cell_ta[~cell_ta_str['开始时间'].str.contains('开始')]\n",
    "# def func_fg_eNodeB_Id(line1):\n",
    "#     return(line1.split(\"eNodeB标识=\")[1].split(',')[0])\n",
    "# def func_fg_id(line):\n",
    "#     return(line.split('小区标识=')[-1])\n",
    "cell_ta['eNodeB_Id']=cell_ta['小区'].map(func_fg_eNodeB_Id)\n",
    "cell_ta['Id']=cell_ta['小区'].map(func_fg_id)\n",
    "cell_ta['eNodeB_Id'] = pd.to_numeric(cell_ta['eNodeB_Id'],errors='coerce')\n",
    "cell_ta['Id'] = pd.to_numeric(cell_ta['Id'],errors='coerce')\n",
    "cell_ta['用户随机接入时TA值在区间0范围的接入次数 (无)']=pd.to_numeric(cell_ta['用户随机接入时TA值在区间0范围的接入次数 (无)'],errors='coerce')\n",
    "cell_ta['用户随机接入时TA值在区间1范围的接入次数 (无)']=pd.to_numeric(cell_ta['用户随机接入时TA值在区间1范围的接入次数 (无)'],errors='coerce')\n",
    "cell_ta['用户随机接入时TA值在区间2范围的接入次数 (无)']=pd.to_numeric(cell_ta['用户随机接入时TA值在区间2范围的接入次数 (无)'],errors='coerce')\n",
    "cell_ta['用户随机接入时TA值在区间3范围的接入次数 (无)']=pd.to_numeric(cell_ta['用户随机接入时TA值在区间3范围的接入次数 (无)'],errors='coerce')\n",
    "cell_ta['用户随机接入时TA值在区间4范围的接入次数 (无)']=pd.to_numeric(cell_ta['用户随机接入时TA值在区间4范围的接入次数 (无)'],errors='coerce')\n",
    "cell_ta['用户随机接入时TA值在区间5范围的接入次数 (无)']=pd.to_numeric(cell_ta['用户随机接入时TA值在区间5范围的接入次数 (无)'],errors='coerce')\n",
    "cell_ta['用户随机接入时TA值在区间6范围的接入次数 (无)']=pd.to_numeric(cell_ta['用户随机接入时TA值在区间6范围的接入次数 (无)'],errors='coerce')\n",
    "cell_ta['用户随机接入时TA值在区间7范围的接入次数 (无)']=pd.to_numeric(cell_ta['用户随机接入时TA值在区间7范围的接入次数 (无)'],errors='coerce')\n",
    "cell_ta['用户随机接入时TA值在区间8范围的接入次数 (无)']=pd.to_numeric(cell_ta['用户随机接入时TA值在区间8范围的接入次数 (无)'],errors='coerce')\n",
    "cell_ta['用户随机接入时TA值在区间9范围的接入次数 (无)']=pd.to_numeric(cell_ta['用户随机接入时TA值在区间9范围的接入次数 (无)'],errors='coerce')\n",
    "cell_ta['用户随机接入时TA值在区间10范围的接入次数 (无)']=pd.to_numeric(cell_ta['用户随机接入时TA值在区间10范围的接入次数 (无)'],errors='coerce')\n",
    "cell_ta['用户随机接入时TA值在区间11范围的接入次数 (无)']=pd.to_numeric(cell_ta['用户随机接入时TA值在区间11范围的接入次数 (无)'],errors='coerce')\n",
    "cell_ta['ECI']=cell_ta['eNodeB_Id'].map(lambda x : x*256)+cell_ta['Id']\n",
    "cell_ta_info=cell_ta.pivot_table(values=['用户随机接入时TA值在区间0范围的接入次数 (无)','用户随机接入时TA值在区间1范围的接入次数 (无)',\n",
    "                                '用户随机接入时TA值在区间2范围的接入次数 (无)','用户随机接入时TA值在区间3范围的接入次数 (无)',\n",
    "                                '用户随机接入时TA值在区间4范围的接入次数 (无)','用户随机接入时TA值在区间5范围的接入次数 (无)',\n",
    "                                '用户随机接入时TA值在区间6范围的接入次数 (无)','用户随机接入时TA值在区间7范围的接入次数 (无)',\n",
    "                                '用户随机接入时TA值在区间8范围的接入次数 (无)','用户随机接入时TA值在区间9范围的接入次数 (无)',\n",
    "                                '用户随机接入时TA值在区间10范围的接入次数 (无)','用户随机接入时TA值在区间11范围的接入次数 (无)'],index='ECI',aggfunc='sum')\n",
    "\n",
    "cell_ta_info['用户随机接入时TA值在区间0-11的总次数']=cell_ta_info['用户随机接入时TA值在区间0范围的接入次数 (无)']+cell_ta_info['用户随机接入时TA值在区间1范围的接入次数 (无)']+cell_ta_info['用户随机接入时TA值在区间2范围的接入次数 (无)']+cell_ta_info['用户随机接入时TA值在区间3范围的接入次数 (无)']+cell_ta_info['用户随机接入时TA值在区间4范围的接入次数 (无)']+cell_ta_info['用户随机接入时TA值在区间5范围的接入次数 (无)']+cell_ta_info['用户随机接入时TA值在区间6范围的接入次数 (无)']+cell_ta_info['用户随机接入时TA值在区间7范围的接入次数 (无)']+cell_ta_info['用户随机接入时TA值在区间8范围的接入次数 (无)']+cell_ta_info['用户随机接入时TA值在区间9范围的接入次数 (无)']+cell_ta_info['用户随机接入时TA值在区间10范围的接入次数 (无)']+cell_ta_info['用户随机接入时TA值在区间11范围的接入次数 (无)']\n",
    "cell_ta_info['随机接入时TA小于234米的占比'] = (cell_ta_info['用户随机接入时TA值在区间0范围的接入次数 (无)']+\n",
    "cell_ta_info['用户随机接入时TA值在区间1范围的接入次数 (无)'])/cell_ta_info['用户随机接入时TA值在区间0-11的总次数']\n",
    "cell_ta_info['随机接入时TA小于548米的占比'] = (cell_ta_info['用户随机接入时TA值在区间0范围的接入次数 (无)']+\n",
    "cell_ta_info['用户随机接入时TA值在区间1范围的接入次数 (无)']+cell_ta_info['用户随机接入时TA值在区间2范围的接入次数 (无)'])/cell_ta_info['用户随机接入时TA值在区间0-11的总次数']\n",
    "cell_ta_info['随机接入时TA大于548米的占比'] =  (cell_ta_info['用户随机接入时TA值在区间3范围的接入次数 (无)']+\n",
    "cell_ta_info['用户随机接入时TA值在区间4范围的接入次数 (无)']+\n",
    "cell_ta_info['用户随机接入时TA值在区间5范围的接入次数 (无)']+ \n",
    "cell_ta_info['用户随机接入时TA值在区间6范围的接入次数 (无)']+\n",
    "cell_ta_info['用户随机接入时TA值在区间7范围的接入次数 (无)']+\n",
    "cell_ta_info['用户随机接入时TA值在区间8范围的接入次数 (无)']+ \n",
    "cell_ta_info['用户随机接入时TA值在区间9范围的接入次数 (无)']+\n",
    "cell_ta_info['用户随机接入时TA值在区间10范围的接入次数 (无)']+\n",
    "cell_ta_info['用户随机接入时TA值在区间11范围的接入次数 (无)'])/cell_ta_info['用户随机接入时TA值在区间0-11的总次数']\n",
    "cell_ta_info['随机接入时TA大于1014米的占比'] =  (cell_ta_info['用户随机接入时TA值在区间4范围的接入次数 (无)']+\n",
    "cell_ta_info['用户随机接入时TA值在区间5范围的接入次数 (无)']+ \n",
    "cell_ta_info['用户随机接入时TA值在区间6范围的接入次数 (无)']+\n",
    "cell_ta_info['用户随机接入时TA值在区间7范围的接入次数 (无)']+\n",
    "cell_ta_info['用户随机接入时TA值在区间8范围的接入次数 (无)']+ \n",
    "cell_ta_info['用户随机接入时TA值在区间9范围的接入次数 (无)']+\n",
    "cell_ta_info['用户随机接入时TA值在区间10范围的接入次数 (无)']+\n",
    "cell_ta_info['用户随机接入时TA值在区间11范围的接入次数 (无)'])/cell_ta_info['用户随机接入时TA值在区间0-11的总次数']\n",
    "# cell_ta_info.to_excel('E:/sjzc/siccq/ta_info.xlsx')\n"
   ]
  },
  {
   "cell_type": "code",
   "execution_count": 90,
   "metadata": {},
   "outputs": [],
   "source": [
    "cell_rl['空口上行业务量(GB)']=cell_rl['空口上行业务字节数']/1000\n",
    "cell_rl['空口下行业务量(GB)']=cell_rl['空口下行业务字节数']/1000"
   ]
  },
  {
   "cell_type": "code",
   "execution_count": 91,
   "metadata": {},
   "outputs": [],
   "source": [
    "cell_mr['弱覆盖采样点数']=cell_mr['弱覆盖采样点数'].astype(float)\n",
    "cell_mr['总采样点数']=cell_mr['总采样点数'].astype(float)"
   ]
  },
  {
   "cell_type": "code",
   "execution_count": 92,
   "metadata": {
    "scrolled": true
   },
   "outputs": [],
   "source": [
    "cell_mr=cell_mr.pivot_table(values=['总采样点数','弱覆盖采样点数'],index='ECI',aggfunc='sum')\n"
   ]
  },
  {
   "cell_type": "code",
   "execution_count": 93,
   "metadata": {},
   "outputs": [],
   "source": [
    "cell_mr['MR覆盖率']=(cell_mr['总采样点数']-cell_mr['弱覆盖采样点数'])/cell_mr['总采样点数']"
   ]
  },
  {
   "cell_type": "code",
   "execution_count": 94,
   "metadata": {
    "scrolled": true
   },
   "outputs": [],
   "source": [
    "cellinfo['enb-ci']=cellinfo['eNodeB标识'].map(str)+\"-\"+cellinfo['小区标识'].map(str)"
   ]
  },
  {
   "cell_type": "code",
   "execution_count": 95,
   "metadata": {
    "scrolled": true
   },
   "outputs": [],
   "source": [
    "\n",
    "df0=pd.merge(cellinfo,cell_mr,how='left',left_on='ECI',right_on='ECI')"
   ]
  },
  {
   "cell_type": "code",
   "execution_count": 96,
   "metadata": {
    "scrolled": true
   },
   "outputs": [],
   "source": [
    "df1=pd.merge(df0,cell_rl,how='left',left_on='enb-ci',right_on='cgi')"
   ]
  },
  {
   "cell_type": "code",
   "execution_count": 97,
   "metadata": {},
   "outputs": [],
   "source": [
    "df2=pd.merge(df1,cell_cdfg,how='left',left_on='enb-ci',right_on='cgi')"
   ]
  },
  {
   "cell_type": "code",
   "execution_count": 98,
   "metadata": {
    "scrolled": true
   },
   "outputs": [],
   "source": [
    "df3=pd.merge(df2,cell_ta_info,how='left',left_on='ECI',right_on='ECI')"
   ]
  },
  {
   "cell_type": "code",
   "execution_count": 99,
   "metadata": {
    "scrolled": true
   },
   "outputs": [],
   "source": [
    "df4=pd.merge(df3,cell_sl,how='left',left_on='ECI',right_on='ECI')"
   ]
  },
  {
   "cell_type": "code",
   "execution_count": 100,
   "metadata": {
    "scrolled": true
   },
   "outputs": [],
   "source": [
    "df=df4[['小区名称','本地小区标识','频带','下行频点','小区标识',\n",
    "     'NAME','eNodeB标识','参考信号功率(0.1毫瓦分贝)','ECI','下行带宽','弱覆盖采样点数',\n",
    "     '总采样点数','MR覆盖率','空口上行业务量(GB)','空口下行业务量(GB)',\n",
    "    'RRC连接平均数','RRC连接最大数','日峰值上行PRB利用率','日峰值下行PRB利用率'\n",
    "    ,'日峰值无线利用率','感知速率Mbps','日上行干扰忙时平均值','低CQI占比','同频重叠覆盖度','随机接入时TA小于234米的占比','随机接入时TA小于548米的占比','随机接入时TA大于548米的占比','随机接入时TA大于1014米的占比']]"
   ]
  },
  {
   "cell_type": "code",
   "execution_count": 103,
   "metadata": {
    "scrolled": false
   },
   "outputs": [],
   "source": [
    "df.to_excel(\"E:/sjzc/siccq/小区级指标(siccq).xlsx\",index=False)"
   ]
  },
  {
   "cell_type": "code",
   "execution_count": null,
   "metadata": {},
   "outputs": [],
   "source": []
  },
  {
   "cell_type": "code",
   "execution_count": null,
   "metadata": {},
   "outputs": [],
   "source": []
  },
  {
   "cell_type": "code",
   "execution_count": null,
   "metadata": {},
   "outputs": [],
   "source": []
  }
 ],
 "metadata": {
  "kernelspec": {
   "display_name": "Python 3",
   "language": "python",
   "name": "python3"
  },
  "language_info": {
   "codemirror_mode": {
    "name": "ipython",
    "version": 3
   },
   "file_extension": ".py",
   "mimetype": "text/x-python",
   "name": "python",
   "nbconvert_exporter": "python",
   "pygments_lexer": "ipython3",
   "version": "3.8.5"
  }
 },
 "nbformat": 4,
 "nbformat_minor": 2
}
