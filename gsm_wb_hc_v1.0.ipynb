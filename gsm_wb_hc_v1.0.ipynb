{
 "cells": [
  {
   "cell_type": "code",
   "execution_count": 85,
   "metadata": {},
   "outputs": [
    {
     "name": "stdout",
     "output_type": "stream",
     "text": [
      "Wall time: 5.19 s\n"
     ]
    }
   ],
   "source": [
    "%%time\n",
    "import numpy as np\n",
    "import pandas as pd\n",
    "import os\n",
    "os.chdir('E:\\hc_gsm')\n",
    "Gsm_Wb=pd.read_csv('查询GERAN外部小区.csv',encoding=\"gbk\",usecols=['NAME','GERAN小区标识','位置区域码','GERAN频点','网络色码','基站色码','小区名称'],dtype={'GERAN小区标识':str,'位置区域码':str,'GERAN频点':str,'网络色码':str,'基站色码':str})\n",
    "Gsm_Arfcn=pd.read_csv('查询GERAN_BCCH相邻频点.csv',encoding=\"gbk\",usecols=['NAME','本地小区标识','BCCH组标识','GERAN频点'],dtype={'本地小区标识':str,'BCCH组标识':str,'GERAN频点':str})\n",
    "Gsm_Info=pd.read_csv('GSM小区资源统计.csv',encoding=\"gbk\",usecols=['BSC名称','基站索引','基站名称','小区索引','小区名称','本地小区标识','位置区码','小区CI','基站色码','网络色码','BCCH频点'],dtype={'位置区码':str,'小区CI':str,'基站色码':str,'网络色码':str,'BCCH频点':str})"
   ]
  },
  {
   "cell_type": "code",
   "execution_count": 86,
   "metadata": {
    "scrolled": true
   },
   "outputs": [],
   "source": [
    "Gsm_Wb['LAC_CI']=Gsm_Wb['位置区域码'].map(str)+\"_\"+Gsm_Wb['GERAN小区标识'].map(str)"
   ]
  },
  {
   "cell_type": "code",
   "execution_count": 87,
   "metadata": {},
   "outputs": [],
   "source": [
    "Gsm_Info['LAC_CI']=Gsm_Info['位置区码'].map(str)+\"_\"+Gsm_Info['小区CI'].map(str)"
   ]
  },
  {
   "cell_type": "code",
   "execution_count": 88,
   "metadata": {
    "scrolled": true
   },
   "outputs": [],
   "source": [
    "Gsm_Wb1=pd.merge(Gsm_Wb,Gsm_Info,how='left',left_on='LAC_CI',right_on='LAC_CI')"
   ]
  },
  {
   "cell_type": "code",
   "execution_count": 89,
   "metadata": {
    "scrolled": true
   },
   "outputs": [],
   "source": [
    "Gsm_Wb1=Gsm_Wb1.dropna()"
   ]
  },
  {
   "cell_type": "code",
   "execution_count": 90,
   "metadata": {},
   "outputs": [
    {
     "name": "stderr",
     "output_type": "stream",
     "text": [
      "c:\\program files (x86)\\python37-32\\lib\\site-packages\\ipykernel_launcher.py:40: SettingWithCopyWarning: \n",
      "A value is trying to be set on a copy of a slice from a DataFrame.\n",
      "Try using .loc[row_indexer,col_indexer] = value instead\n",
      "\n",
      "See the caveats in the documentation: https://pandas.pydata.org/pandas-docs/stable/user_guide/indexing.html#returning-a-view-versus-a-copy\n"
     ]
    }
   ],
   "source": [
    "# 定义外部核查函数\n",
    "def BCCH(a,b):\n",
    "    if a==b:\n",
    "        return 'BCCH正确'\n",
    "    else:\n",
    "        return 'BCCH错误'\n",
    "def NCC(a,b):\n",
    "    if a==b:\n",
    "        return 'NCC正确'\n",
    "    else:\n",
    "        return 'NCC错误'\n",
    "def BCC(a,b):\n",
    "    if a==b:\n",
    "        return 'BCC正确'\n",
    "    else:\n",
    "        return 'BCC错误'\n",
    "Gsm_Wb1['频点是否正常']=Gsm_Wb1.apply(lambda x : BCCH(x['GERAN频点'],x['BCCH频点']),axis=1)\n",
    "Gsm_Wb1['NCC是否正常']=Gsm_Wb1.apply(lambda x : NCC(x['网络色码_x'],x['网络色码_y']),axis=1)\n",
    "Gsm_Wb1['BCC是否正常']=Gsm_Wb1.apply(lambda x : BCC(x['基站色码_x'],x['基站色码_y']),axis=1)\n",
    "Gsm_Wb1['外部核查情况']=Gsm_Wb1['频点是否正常']+Gsm_Wb1['NCC是否正常']+Gsm_Wb1['BCC是否正常']\n",
    "\n",
    "Gsm_Wb2=Gsm_Wb1[Gsm_Wb1['外部核查情况'].str.contains('错误')]\n",
    "# 划分GSM外部错误类型\n",
    "def mml(a,b,c,d,e,f,g):\n",
    "    if g == 'BCCH错误NCC错误BCC错误':\n",
    "        return f\"\"\"MOD GERANEXTERNALCELL:MCC=\"460\",MNC=\"00\",GERANCELLID={b},LAC={c},GERANARFCN={d},NETWORKCOLOURCODE={e},BASESTATIONCOLOURCODE={f};{{{a}}}\"\"\"\n",
    "    elif g== 'BCCH错误NCC错误BCC正确':\n",
    "        return f\"\"\"MOD GERANEXTERNALCELL:MCC=\"460\",MNC=\"00\",GERANCELLID={b},LAC={c},GERANARFCN={d},NETWORKCOLOURCODE={e};{{{a}}}\"\"\"\n",
    "    elif g == 'BCCH错误NCC正确BCC错误':\n",
    "        return f\"\"\"MOD GERANEXTERNALCELL:MCC=\"460\",MNC=\"00\",GERANCELLID={b},LAC={c},GERANARFCN={d},BASESTATIONCOLOURCODE={f};{{{a}}}\"\"\"\n",
    "    elif g == 'BCCH错误NCC正确BCC正确':\n",
    "        return f\"\"\"MOD GERANEXTERNALCELL:MCC=\"460\",MNC=\"00\",GERANCELLID={b},LAC={c},GERANARFCN={d};{{{a}}}\"\"\"\n",
    "    elif g == 'BCCH正确NCC错误BCC错误':\n",
    "        return f\"\"\"MOD GERANEXTERNALCELL:MCC=\"460\",MNC=\"00\",GERANCELLID={b},LAC={c},NETWORKCOLOURCODE={e},BASESTATIONCOLOURCODE={f};{{{a}}}\"\"\"\n",
    "    elif g == 'BCCH正确NCC错误BCC正确':\n",
    "        return f\"\"\"MOD GERANEXTERNALCELL:MCC=\"460\",MNC=\"00\",GERANCELLID={b},LAC={c},NETWORKCOLOURCODE={e};{{{a}}}\"\"\"\n",
    "    else:\n",
    "        return f\"\"\"MOD GERANEXTERNALCELL:MCC=\"460\",MNC=\"00\",GERANCELLID={b},LAC={c},BASESTATIONCOLOURCODE={f};{{{a}}}\"\"\"\n",
    "    \n",
    "Gsm_Wb2['MML']=Gsm_Wb2.apply(lambda x : mml(x['NAME'],x['小区CI'],x['位置区码'],x['BCCH频点'],x['网络色码_y'],x['基站色码_y'],x['外部核查情况']),axis=1)\n",
    "Gsm_Wb2.to_excel('Gsm_Wb_外部核查结果.xlsx',index=None)\n"
   ]
  },
  {
   "cell_type": "code",
   "execution_count": 91,
   "metadata": {},
   "outputs": [],
   "source": [
    "\n",
    "Gsm_Wb2_Arfcn=Gsm_Wb1[Gsm_Wb1['频点是否正常'].str.contains('错误')]"
   ]
  },
  {
   "cell_type": "code",
   "execution_count": 92,
   "metadata": {},
   "outputs": [],
   "source": [
    "# 筛选出包含GSM错误频点的LTE站点\n",
    "Gsm_Arfcn=pd.merge(Gsm_Arfcn,Gsm_Wb2_Arfcn,how='left',on='NAME')"
   ]
  },
  {
   "cell_type": "code",
   "execution_count": 93,
   "metadata": {
    "scrolled": true
   },
   "outputs": [],
   "source": [
    "Gsm_Arfcn=Gsm_Arfcn.dropna(subset=['频点是否正常'])"
   ]
  },
  {
   "cell_type": "code",
   "execution_count": 94,
   "metadata": {},
   "outputs": [],
   "source": [
    "# 定义删除所有GSM频点的函数\n",
    "def mml1(h,i,j,k):\n",
    "    return f\"\"\"RMV GERANNFREQGROUPARFCN:LOCALCELLID={h},BCCHGROUPID={i},GERANARFCN={j};{{{k}}}\"\"\"\n",
    "# 添加正确的GSM频点\n",
    "def mml2(h,i,j,k):\n",
    "    return f\"\"\"ADD GERANNFREQGROUPARFCN:LOCALCELLID={h},BCCHGROUPID={i},GERANARFCN={j};{{{k}}}\"\"\"\n",
    "# 删除冗余的GSM频点\n",
    "def mml3(h,i,j,k):\n",
    "    return f\"\"\"RMV GERANNFREQGROUPARFCN:LOCALCELLID={h},BCCHGROUPID={i},GERANARFCN={j};{{{k}}}\"\"\"\n",
    "Gsm_Arfcn['mml1']=Gsm_Arfcn.apply(lambda y : mml1(y['本地小区标识_x'],y['BCCH组标识'],y['GERAN频点_x'],y['NAME']),axis=1)\n",
    "Gsm_Arfcn['mml2']=Gsm_Arfcn.apply(lambda z : mml2(z['本地小区标识_x'],z['BCCH组标识'],z['BCCH频点'],z['NAME']),axis=1)\n",
    "Gsm_Arfcn['mml3']=Gsm_Arfcn.apply(lambda x1 : mml3(x1['本地小区标识_x'],x1['BCCH组标识'],x1['GERAN频点_y'],x1['NAME']),axis=1)\n",
    "Gsm_Arfcn.to_excel('Gsm_Arfcn.xlsx',index=None)"
   ]
  },
  {
   "cell_type": "code",
   "execution_count": 95,
   "metadata": {},
   "outputs": [],
   "source": [
    "temp0=Gsm_Arfcn[['mml1']]\n",
    "temp1=Gsm_Arfcn[['mml2']]\n",
    "temp2=Gsm_Arfcn[['mml3']]"
   ]
  },
  {
   "cell_type": "code",
   "execution_count": 96,
   "metadata": {
    "scrolled": true
   },
   "outputs": [],
   "source": [
    "temp0=temp0.drop_duplicates()\n",
    "temp1=temp1.drop_duplicates()\n",
    "temp2=temp2.drop_duplicates()\n"
   ]
  },
  {
   "cell_type": "code",
   "execution_count": 97,
   "metadata": {
    "scrolled": true
   },
   "outputs": [],
   "source": [
    "temp0.rename(columns={'mml1':'MML'},inplace=True)\n",
    "temp1.rename(columns={'mml2':'MML'},inplace=True)\n",
    "temp2.rename(columns={'mml3':'MML'},inplace=True)"
   ]
  },
  {
   "cell_type": "code",
   "execution_count": 98,
   "metadata": {
    "scrolled": true
   },
   "outputs": [],
   "source": [
    "result=pd.concat([temp0,temp1,Gsm_Wb2[['MML']],temp2])\n",
    "result.to_csv('4-2外部修改.txt',encoding='gbk',index=None,header=False,sep='?',quoting=3,doublequote=False,escapechar='?')"
   ]
  },
  {
   "cell_type": "code",
   "execution_count": null,
   "metadata": {},
   "outputs": [],
   "source": []
  },
  {
   "cell_type": "code",
   "execution_count": null,
   "metadata": {},
   "outputs": [],
   "source": []
  },
  {
   "cell_type": "code",
   "execution_count": null,
   "metadata": {},
   "outputs": [],
   "source": []
  }
 ],
 "metadata": {
  "kernelspec": {
   "display_name": "Python 3",
   "language": "python",
   "name": "python3"
  },
  "language_info": {
   "codemirror_mode": {
    "name": "ipython",
    "version": 3
   },
   "file_extension": ".py",
   "mimetype": "text/x-python",
   "name": "python",
   "nbconvert_exporter": "python",
   "pygments_lexer": "ipython3",
   "version": "3.7.4"
  }
 },
 "nbformat": 4,
 "nbformat_minor": 2
}
